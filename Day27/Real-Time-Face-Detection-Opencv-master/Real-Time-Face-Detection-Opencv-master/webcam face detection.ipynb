{
 "cells": [
  {
   "cell_type": "code",
   "execution_count": 2,
   "metadata": {},
   "outputs": [
    {
     "name": "stdout",
     "output_type": "stream",
     "text": [
      "1. HAAR CASCADE FACE DETECTION\n",
      "2. HISTORGRAM ORIENTED FACE DETECTION \n",
      "3. EXIT\n",
      ">> Choose.....\n",
      "3\n",
      "Program end\n"
     ]
    }
   ],
   "source": [
    "def haar_face_detector(img):\n",
    "    gray = cv2.cvtColor(img, cv2.COLOR_BGR2GRAY)\n",
    "    face_cascade = cv2.CascadeClassifier(args.weights)\n",
    "    faces = face_cascade.detectMultiScale(gray, 1.3, 5)\n",
    "    for (x,y,w,h) in faces:\n",
    "        cv2.rectangle(img,(x,y),(x+w,y+h),(0,255,0),2)\n",
    "        roi_gray = gray[y:y+h, x:x+w]\n",
    "        roi_color = img[y:y+h, x:x+w]\n",
    "        eyes = eye_cascade.detectMultiScale(roi_gray)\n",
    "        for (ex,ey,ew,eh) in eyes:\n",
    "            cv2.rectangle(roi_color,(ex,ey),(ex+ew,ey+eh),(255,0,0),2)\n",
    "    return img\n",
    "\n",
    "def hog_face_detector(img):\n",
    "    import dlib\n",
    "    #img = cv2.cvtColor(img, cv2.COLOR_BGR2GRAY)\n",
    "    face_cascade = dlib.get_frontal_face_detector()\n",
    "    faces_hog = face_cascade(img, 1)  \n",
    "    for face in faces_hog:\n",
    "        x = face.left()\n",
    "        y = face.top()\n",
    "        w = face.right() - x\n",
    "        h = face.bottom() - y\n",
    "        # draw box over face\n",
    "        cv2.rectangle(img, (x,y), (x+w,y+h), (0,255,0), 2)\n",
    "    return img\n",
    "\n",
    "print(\"1. HAAR CASCADE FACE DETECTION\\n2. HISTORGRAM ORIENTED FACE DETECTION \\n3. EXIT\\n>> Choose.....\")\n",
    "ch = int(input())\n",
    "if(ch==1):\n",
    "    while 1:\n",
    "        ret, img = cap.read()\n",
    "        cv2.imshow('img',haar_face_detector(img))\n",
    "        if cv2.waitKey(1) & 0xFF == ord('q'):\n",
    "            break\n",
    "    cap.release()\n",
    "    cv2.destroyAllWindows()\n",
    "elif(ch==2):\n",
    "    while 1:\n",
    "        ret, img = cap.read()\n",
    "        cv2.imshow('img',hog_face_detector(img))    # too slow\n",
    "        if cv2.waitKey(1) & 0xFF == ord('q'):\n",
    "            break\n",
    "    cap.release()\n",
    "    cv2.destroyAllWindows()\n",
    "else:\n",
    "    print(\"Program end\")"
   ]
  },
  {
   "cell_type": "code",
   "execution_count": null,
   "metadata": {},
   "outputs": [],
   "source": []
  }
 ],
 "metadata": {
  "kernelspec": {
   "display_name": "Python 3",
   "language": "python",
   "name": "python3"
  },
  "language_info": {
   "codemirror_mode": {
    "name": "ipython",
    "version": 3
   },
   "file_extension": ".py",
   "mimetype": "text/x-python",
   "name": "python",
   "nbconvert_exporter": "python",
   "pygments_lexer": "ipython3",
   "version": "3.5.5"
  }
 },
 "nbformat": 4,
 "nbformat_minor": 2
}
